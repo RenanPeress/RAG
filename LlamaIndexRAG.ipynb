{
 "cells": [
  {
   "cell_type": "code",
   "execution_count": 167,
   "id": "440e111c",
   "metadata": {},
   "outputs": [],
   "source": [
    "from llama_index.core import SimpleDirectoryReader\n",
    "\n",
    "documentos = SimpleDirectoryReader(input_dir='documents')"
   ]
  },
  {
   "cell_type": "code",
   "execution_count": 168,
   "id": "ef4c5e62",
   "metadata": {},
   "outputs": [
    {
     "data": {
      "text/plain": [
       "[PosixPath('/home/renan-peres/Área de trabalho/LLM/RAG/documents/serenatto_cafes_especiais.pdf')]"
      ]
     },
     "execution_count": 168,
     "metadata": {},
     "output_type": "execute_result"
    }
   ],
   "source": [
    "documentos.input_files"
   ]
  },
  {
   "cell_type": "code",
   "execution_count": 169,
   "id": "3194e234",
   "metadata": {},
   "outputs": [],
   "source": [
    "docs = documentos.load_data()"
   ]
  },
  {
   "cell_type": "code",
   "execution_count": 170,
   "id": "a79039d2",
   "metadata": {},
   "outputs": [
    {
     "data": {
      "text/plain": [
       "[Document(id_='03a5f625-3f7b-4136-903d-7282241c739e', embedding=None, metadata={'page_label': '1', 'file_name': 'serenatto_cafes_especiais.pdf', 'file_path': '/home/renan-peres/Área de trabalho/LLM/RAG/documents/serenatto_cafes_especiais.pdf', 'file_type': 'application/pdf', 'file_size': 133957, 'creation_date': '2025-04-25', 'last_modified_date': '2025-04-25'}, excluded_embed_metadata_keys=['file_name', 'file_type', 'file_size', 'creation_date', 'last_modified_date', 'last_accessed_date'], excluded_llm_metadata_keys=['file_name', 'file_type', 'file_size', 'creation_date', 'last_modified_date', 'last_accessed_date'], relationships={}, metadata_template='{key}: {value}', metadata_separator='\\n', text_resource=MediaResource(embeddings=None, data=None, text='Serenatto  –  Loja  online  de  cafés  especiais   Informações  gerais   P:  Quais  produtos  são  vendidos  no  site  da  Serenatto?  R:  A  Serenatto  é  uma  loja  online  especializada  na  venda  de  grãos  de  cafés  especiais,  \\noferecendo\\n \\ngrãos\\n \\ntorrados,\\n \\nprovenientes\\n \\nde\\n \\nfazendas\\n \\nselecionadas\\n \\nde\\n \\nMinas\\n \\nGerais.\\n \\nTodos\\n \\nos\\n \\nnossos\\n \\ncafés\\n \\npossuem\\n \\nnota\\n \\nSCA\\n \\nacima\\n \\nde\\n \\n80,\\n \\ngarantindo\\n \\nalta\\n \\nqualidade\\n \\ne\\n \\nperfis\\n \\nsensoriais\\n \\nexcepcionais.\\n  P:  De  onde  vêm  os  grãos  de  café  da  Serenatto?   R:  Nossos  grãos  são  cuidadosamente  selecionados  de  fazendas  localizadas  em  Minas  \\nGerais,\\n \\nconhecidas\\n \\npela\\n \\nalta\\n \\nqualidade\\n \\nde\\n \\nseus\\n \\ncafés\\n \\nespeciais.\\n \\nCada\\n \\nfazenda\\n \\né\\n \\nescolhida\\n \\npor\\n \\nsuas\\n \\npráticas\\n \\nsustentáveis\\n \\ne\\n \\npelo\\n \\ncuidado\\n \\nexcepcional\\n \\ncom\\n \\na\\n \\nprodução.\\n  P:  Qual  é  a  quantidade  vendida?  R:  Os  grãos  já  torrados  são  vendidos  em  pacotes  de  250g   P:  Quais  são  as  variedades  de  café  disponíveis?  R:  Trabalhamos  com  as  seguintes  variedades  de  café  em  grãos:  ●  Bourbon  vermelho  ●  Bourbon  amarelo  ●  Blend  especial  (Mistura  de  Bourbon  amarelo  e  vermelho)  ●  Catuaí  amarelo  ●  Geisha  ●  Yirgacheffe   P:  Quais  são  os  preços  de  cada  variedade  de  café?  R:  Os  preços  sãos  os  seguintes:  ●  Bourbon  vermelho:  R$  41,00  ●  Bourbon  amarelo:  R$  43,00  ●  Blend  especial:  R$  37,50  ●  Catuaí  amarelo:  R$  55,00  ●  Geisha:  R$  105,00  ●  Yirgacheffe:  R$  110,00      ', path=None, url=None, mimetype=None), image_resource=None, audio_resource=None, video_resource=None, text_template='{metadata_str}\\n\\n{content}'),\n",
       " Document(id_='b1b4545f-ff3a-4656-990c-e8191332461e', embedding=None, metadata={'page_label': '2', 'file_name': 'serenatto_cafes_especiais.pdf', 'file_path': '/home/renan-peres/Área de trabalho/LLM/RAG/documents/serenatto_cafes_especiais.pdf', 'file_type': 'application/pdf', 'file_size': 133957, 'creation_date': '2025-04-25', 'last_modified_date': '2025-04-25'}, excluded_embed_metadata_keys=['file_name', 'file_type', 'file_size', 'creation_date', 'last_modified_date', 'last_accessed_date'], excluded_llm_metadata_keys=['file_name', 'file_type', 'file_size', 'creation_date', 'last_modified_date', 'last_accessed_date'], relationships={}, metadata_template='{key}: {value}', metadata_separator='\\n', text_resource=MediaResource(embeddings=None, data=None, text='P:  A  Serenatto  oferece  cafés  descafeinados?  R:  No  momento,  trabalhamos  apenas  com  cafés  especiais  que  contêm  cafeína.  Todos  \\nos\\n \\nnossos\\n \\ngrãos\\n \\nsão\\n \\nselecionados\\n \\npara\\n \\noferecer\\n \\na\\n \\nmelhor\\n \\nexperiência\\n \\nsensorial,\\n \\nmas\\n \\nnão\\n \\ntemos\\n \\nopções\\n \\ndescafeinadas\\n \\nem\\n \\nnosso\\n \\nportfólio.\\n  P:  Vocês  enviam  para  todos  os  estados  brasileiros?  R:  Sim,  os  cafés  são  enviados  para  todos  os  estados  brasileiros.    P:  Qual  é  o  prazo  de  envio?  R:  O  envio  dos  pedidos  é  realizado  em  até  3  dias  úteis  após  a  confirmação  do  \\npagamento,\\n \\npois\\n \\nenviamos\\n \\no\\n \\ncafé\\n \\nrecém\\n \\ntorrado\\n \\npara\\n \\ngarantir\\n \\nfrescor\\n \\ne\\n \\nqualidade.\\n  P:  Quais  são  os  métodos  de  pagamento  aceitos?  R:  Aceitamos  PIX,  boleto  bancário  e  cartão  de  crédito.   P:  Vocês  oferecem  cursos  ou  workshops  sobre  café?  R:  Estamos  planejando  oferecer  workshops  e  cursos  sobre  métodos  de  preparo  e  \\ndegustação\\n \\nde\\n \\ncafé\\n \\nem\\n \\nbreve.\\n \\nFique\\n \\nde\\n \\nolho\\n \\nem\\n \\nnossas\\n \\nredes\\n \\nsociais\\n \\ne\\n \\nnewsletter\\n \\npara\\n \\nmais\\n \\ninformações.\\n  P:  A  Serenatto  oferece  um  serviço  de  assinatura?   R:  Atualmente,  não  oferecemos  um  serviço  de  assinatura.  No  entanto,  você  pode  \\nrealizar\\n \\npedidos\\n \\nrecorrentes\\n \\nmanualmente\\n \\natravés\\n \\nde\\n \\nnosso\\n \\nsite.\\n \\nEstamos\\n \\nsempre\\n \\navaliando\\n \\nnovos\\n \\nserviços\\n \\nque\\n \\npossam\\n \\nmelhorar\\n \\na\\n \\nexperiência\\n \\nde\\n \\nnossos\\n \\nclientes,\\n \\nentão\\n \\nfique\\n \\natento\\n \\nàs\\n \\natualizações\\n \\nfuturas.\\n  P:  Onde  posso  tirar  mais  dúvidas?  R:  Para  mais  informações,  entre  em  contato  pelo  whatsapp  (11)  99999-9999  ou  envie  \\nemail\\n \\npara\\n \\ncontato@serenatto.com.br.\\n             ', path=None, url=None, mimetype=None), image_resource=None, audio_resource=None, video_resource=None, text_template='{metadata_str}\\n\\n{content}'),\n",
       " Document(id_='59a85fa3-5b1a-46b6-b7d3-9ba98fe40d2f', embedding=None, metadata={'page_label': '3', 'file_name': 'serenatto_cafes_especiais.pdf', 'file_path': '/home/renan-peres/Área de trabalho/LLM/RAG/documents/serenatto_cafes_especiais.pdf', 'file_type': 'application/pdf', 'file_size': 133957, 'creation_date': '2025-04-25', 'last_modified_date': '2025-04-25'}, excluded_embed_metadata_keys=['file_name', 'file_type', 'file_size', 'creation_date', 'last_modified_date', 'last_accessed_date'], excluded_llm_metadata_keys=['file_name', 'file_type', 'file_size', 'creation_date', 'last_modified_date', 'last_accessed_date'], relationships={}, metadata_template='{key}: {value}', metadata_separator='\\n', text_resource=MediaResource(embeddings=None, data=None, text='Variedades  dos  grãos   P:  Quais  são  as  características  de  cada  variedade  de  café?  R:  As  variedades  têm  as  seguintes  características:  ●  Bourbon  vermelho:  Doçura  intensa,  corpo  encorpado,  notas  de  chocolate.  ●  Bourbon  amarelo:  Acidez  vibrante,  notas  cítricas  de  maracujá,  ameixa  e  nêspera .   ●  Blend  especial:  Mistura  do  bourbon  vermelho  e  bourbon  amarelo,  gerando  \\nequilíbrio\\n \\nentre\\n \\ndoçura\\n \\ne\\n \\nacidez,\\n \\ncom\\n \\nnotas\\n \\nde\\n \\ncaramelo\\n \\ne\\n \\nchocolate.\\n ●  Catuaí  amarelo:  Perfil  exótico,  que  carrega  uma  expressiva  acidez  e  notas  de  \\nacerola\\n \\ne\\n \\npitanga.\\n \\n ●  Geisha:  Aroma  floral,  notas  de  jasmim  e  mamão  papaya.   ●  Yirgacheffe:  Acidez  vibrante,  notas  de  mel  de  laranjeira,  chá  de  capim-limão  e  \\nmaçã\\n \\nfuji.\\n \\n  P:  Quero  saber  mais  detalhes  sobre  o  Bourbon  vermelho.  R:  Este  café  possui  doçura  máxima  (5/5),  que  causa  sensação  aveludada  no  céu  da  \\nboca.\\n \\nO\\n \\ncorpo\\n \\né\\n \\nencorpado\\n \\n(5/5)\\n \\ne\\n \\na\\n \\nacidez\\n \\né\\n \\nbaixa\\n \\n(1/5),\\n \\ncom\\n \\num\\n \\nleve\\n \\namargor\\n \\n(2/5).\\n \\nSeu\\n \\nperfil\\n \\nsensorial\\n \\né\\n \\nmarcado\\n \\npor\\n \\nnotas\\n \\nde\\n \\nchocolate.\\n \\nO\\n \\nprocesso\\n \\nde\\n \\nprodução\\n \\né\\n \\nnatural,\\n \\ncultivado\\n \\nem\\n \\naltitudes\\n \\nentre\\n \\n1.200m\\n \\ne\\n \\n1.450m,\\n \\ncom\\n \\ntorra\\n \\nmédia\\n \\nescura.\\n \\n  P:  Quero  mais  detalhes  sobre  o  Bourbon  amarelo.  R:  Este  café  possui  doçura  moderada  (3/5),  corpo  médio  (3/5),  alta  acidez  (5/5)  e  baixo  \\namargor\\n \\n(1/5).\\n \\nPossui\\n \\nsabor\\n \\nresidual\\n \\nlongo\\n \\ne\\n \\nintenso\\n \\nde\\n \\nfrutas\\n \\ncítricas,\\n \\nincluindo\\n \\nnotas\\n \\nde\\n \\nmaracujá,\\n \\nameixa\\n \\ne\\n \\nnêspera.\\n \\nO\\n \\nprocesso\\n \\nutilizado\\n \\né\\n \\no\\n \\ncereja\\n \\ndescascado,\\n \\ncultivado\\n \\nem\\n \\naltitudes\\n \\nentre\\n \\n1.200m\\n \\ne\\n \\n1.450m,\\n \\ncom\\n \\ntorra\\n \\nmédia\\n \\nclara.\\n \\n  P:  Quero  saber  mais  detalhes  sobre  o  Blend  especial.  R:  É  uma  mistura  do  Bourbon  amarelo  com  o  Bourbon  vermelho,  ideal  para  quem  \\nbusca\\n \\no\\n \\nequilíbrio\\n \\nperfeito.\\n \\nEsta\\n \\nmistura\\n \\napresenta\\n \\ndoçura\\n \\nalta\\n \\n(4/5),\\n \\ncorpo\\n \\nmédio-alto\\n \\n(4/5)\\n \\ne\\n \\nacidez\\n \\nmédia-alta\\n \\n(4/5),\\n \\ncom\\n \\namargor\\n \\nbaixo\\n \\n(1/5).\\n \\nSeu\\n \\nperfil\\n \\nsensorial\\n \\ncombina\\n \\ncaramelo\\n \\ne\\n \\nchocolate.\\n \\nO\\n \\nprocesso\\n \\ninclui\\n \\ncereja\\n \\ndescascado\\n \\ne\\n \\nnatural,\\n \\ncultivado\\n \\nem\\n \\naltitudes\\n \\nentre\\n \\n1.200m\\n \\ne\\n \\n1.450m,\\n \\ncom\\n \\ntorra\\n \\nmédia.\\n  P:  Quero  mais  detalhes  sobre  o  Catuaí  amarelo.  R:  Este  café  possui  doçura  máxima  (5/5)  e  corpo  médio-alto  (4/5)  e  amargor  baixo  \\n(1/5).\\n \\nEle\\n \\nainda\\n \\ncarrega\\n \\numa\\n \\nexpressiva\\n \\nacidez\\n \\ne\\n \\nnotas\\n \\nmaravilhosas\\n \\nde\\n \\npitanga,\\n \\nfugindo\\n \\nmuito\\n \\ndo\\n \\ntradicional.\\n \\nÉ\\n \\num\\n \\ncafé\\n \\npara\\n \\nquem\\n \\nbusca\\n \\numa\\n \\nexperiência\\n \\nsensorial\\n \\ndiferenciada.\\n \\nO\\n \\nprocesso\\n \\né\\n \\nfermentado,\\n \\ncultivado\\n \\nem\\n \\naltitude\\n \\nde\\n \\n1.200m,\\n \\ncom\\n \\ntorra\\n \\nmédia.\\n  ', path=None, url=None, mimetype=None), image_resource=None, audio_resource=None, video_resource=None, text_template='{metadata_str}\\n\\n{content}'),\n",
       " Document(id_='50f8ca2d-9d93-4f90-9c8d-d5eb18122e81', embedding=None, metadata={'page_label': '4', 'file_name': 'serenatto_cafes_especiais.pdf', 'file_path': '/home/renan-peres/Área de trabalho/LLM/RAG/documents/serenatto_cafes_especiais.pdf', 'file_type': 'application/pdf', 'file_size': 133957, 'creation_date': '2025-04-25', 'last_modified_date': '2025-04-25'}, excluded_embed_metadata_keys=['file_name', 'file_type', 'file_size', 'creation_date', 'last_modified_date', 'last_accessed_date'], excluded_llm_metadata_keys=['file_name', 'file_type', 'file_size', 'creation_date', 'last_modified_date', 'last_accessed_date'], relationships={}, metadata_template='{key}: {value}', metadata_separator='\\n', text_resource=MediaResource(embeddings=None, data=None, text='P:  Quero  saber  mais  detalhes  sobre  o  Geisha.  R:  Este  café  premium  possui  doçura  máxima  (5/5),  corpo  encorpado  (5/5)  e  acidez  \\nmoderada-alta\\n \\n(4/5),\\n \\ncom\\n \\namargor\\n \\nbaixo\\n \\n(1/5).\\n \\nSeu\\n \\nperfil\\n \\nsensorial\\n \\ntem\\n \\naroma\\n \\nfloral\\n \\ne\\n \\né\\n \\nmarcado\\n \\npor\\n \\nnotas\\n \\nde\\n \\njasmim\\n \\ne\\n \\nmamão\\n \\npapaya.\\n \\nO\\n \\nprocesso\\n \\né\\n \\nfermentado,\\n \\ncultivado\\n \\nem\\n \\naltitude\\n \\nde\\n \\n1.150m,\\n \\ncom\\n \\ntorra\\n \\nclara.\\n  P:  Quero  saber  mais  detalhes  sobre  o  Yirgacheffe.   R:  Este  café  premium  possui  doçura  máxima  (5/5)  e  corpo  médio-alto  (4/5),  \\ndestacando-se\\n \\npela\\n \\nalta\\n \\nacidez\\n \\n(5/5)\\n \\ne\\n \\namargor\\n \\nbaixo\\n \\n(1/5).\\n \\nSeu\\n \\nperfil\\n \\nsensorial\\n \\ninclui\\n \\nnotas\\n \\nde\\n \\nmel\\n \\nde\\n \\nlaranjeira,\\n \\nchá\\n \\nde\\n \\ncapim-limão\\n \\ne\\n \\nmaçã\\n \\nfuji.\\n \\nA\\n \\nacidez\\n \\né\\n \\nvibrante,\\n \\ncom\\n \\ncorpo\\n \\nsedoso\\n \\ne\\n \\nfinalização\\n \\ndoce\\n \\nfrutada.\\n \\nO\\n \\nprocesso\\n \\né\\n \\nfermentado,\\n \\ncultivado\\n \\nem\\n \\naltitude\\n \\nde\\n \\n1.300m,\\n \\ncom\\n \\ntorra\\n \\nclara.\\n \\n  P:  Qual  café  da  Serenatto  é  mais  indicado  para  quem  prefere  sabores  suaves?  R:  Para  quem  prefere  sabores  suaves,  recomendamos  o  Bourbon  Vermelho,  que  \\npossui\\n \\ndoçura\\n \\nintensa,\\n \\ncorpo\\n \\nencorpado\\n \\ne\\n \\nnotas\\n \\nde\\n \\nchocolate,\\n \\ncom\\n \\nacidez\\n \\nbaixa\\n \\ne\\n \\namargor\\n \\nleve.\\n  P:  Qual  café  é  mais  indicado  para  quem  gosta  de  acidez  marcante?  R:  Se  você  aprecia  acidez  vibrante,  experimente  o  Bourbon  amarelo,  Catuaí  amarelo  \\nou\\n \\no\\n \\nYirgacheffe.\\n \\nAmbos\\n \\npossuem\\n \\nacidez\\n \\nalta\\n \\ne\\n \\nnotas\\n \\ncítricas\\n \\ne\\n \\nfrutadas\\n \\nque\\n \\ndestacam\\n \\nessa\\n \\ncaracterística.\\n  P:  Vocês  têm  cafés  com  notas  florais?  R:  Sim,  o  Geisha  é  a  melhor  opção  para  quem  busca  notas  florais.  Ele  possui  aroma  de  \\njasmim\\n \\ne\\n \\nnotas\\n \\nde\\n \\nmamão\\n \\npapaya,\\n \\ncom\\n \\numa\\n \\nacidez\\n \\nagradável\\n \\ne\\n \\ndoçura\\n \\nmáxima.\\n  P:  Como  posso  identificar  notas  diferentes  no  café?   R:  Identificar  notas  em  café  é  uma  habilidade  que  pode  ser  aprimorada  com  a  prática.  \\nComece\\n \\nprovando\\n \\ncafés\\n \\nde\\n \\ndiferentes\\n \\nregiões\\n \\ne\\n \\nprestando\\n \\natenção\\n \\nàs\\n \\ndescrições\\n \\ndas\\n \\nnotas\\n \\nna\\n \\nembalagem.\\n \\nTente\\n \\nidentificar\\n \\nessas\\n \\nnotas\\n \\nenquanto\\n \\nsaboreia\\n \\nlentamente,\\n \\nprestando\\n \\natenção\\n \\nao\\n \\naroma,\\n \\nsabor\\n \\ne\\n \\nsensação\\n \\nna\\n \\nboca.\\n         ', path=None, url=None, mimetype=None), image_resource=None, audio_resource=None, video_resource=None, text_template='{metadata_str}\\n\\n{content}'),\n",
       " Document(id_='9b1ab59c-be19-4c3f-8eda-e2c4b5e6087d', embedding=None, metadata={'page_label': '5', 'file_name': 'serenatto_cafes_especiais.pdf', 'file_path': '/home/renan-peres/Área de trabalho/LLM/RAG/documents/serenatto_cafes_especiais.pdf', 'file_type': 'application/pdf', 'file_size': 133957, 'creation_date': '2025-04-25', 'last_modified_date': '2025-04-25'}, excluded_embed_metadata_keys=['file_name', 'file_type', 'file_size', 'creation_date', 'last_modified_date', 'last_accessed_date'], excluded_llm_metadata_keys=['file_name', 'file_type', 'file_size', 'creation_date', 'last_modified_date', 'last_accessed_date'], relationships={}, metadata_template='{key}: {value}', metadata_separator='\\n', text_resource=MediaResource(embeddings=None, data=None, text='Nota  SCA   P:  O  que  é  a  nota  SCA?  R:  A  nota  SCA  (Specialty  Coffee  Association)  é  uma  avaliação  que  classifica  a  \\nqualidade\\n \\ndo\\n \\ncafé\\n \\ncom\\n \\nbase\\n \\nem\\n \\ncritérios\\n \\npadronizados.\\n \\nA\\n \\npontuação\\n \\nvaria\\n \\nde\\n \\n0\\n \\na\\n \\n100,\\n \\ne\\n \\ncafés\\n \\ncom\\n \\nnota\\n \\nacima\\n \\nde\\n \\n80\\n \\nsão\\n \\nconsiderados\\n \\nespeciais.\\n \\nA\\n \\navaliação\\n \\nconsidera\\n \\naspectos\\n \\ncomo\\n \\naroma,\\n \\nsabor,\\n \\nacidez,\\n \\ncorpo,\\n \\nequilíbrio,\\n \\ndoçura\\n \\ne\\n \\nfinalização.\\n \\nCafés\\n \\ncom\\n \\nnotas\\n \\nacima\\n \\nde\\n \\n85\\n \\nsão\\n \\nde\\n \\naltíssima\\n \\nqualidade,\\n \\ne\\n \\nacima\\n \\nde\\n \\n90\\n \\nsão\\n \\nraros\\n \\ne\\n \\nexcepcionais.\\n  P:  Quais  são  as  notas  SCA  dos  cafés  da  Serenatto?  R:  Os  cafés  da  Serenatto  têm  as  seguintes  notas  SCA:  ●  Bourbon  vermelho:  85  ●  Bourbon  amarelo:  86  ●  Blend  especial:  85  ●  Catuaí  amarelo:  87  ●  Geisha:  90  ●  Yirgacheffe:  90    P:  Quais  são  os  cafés  mais  bem  avaliados  da  Serenatto?  R:  Geisha  e  Yirgacheffe.  Ambos  com  Nota  SCA  90.                        ', path=None, url=None, mimetype=None), image_resource=None, audio_resource=None, video_resource=None, text_template='{metadata_str}\\n\\n{content}'),\n",
       " Document(id_='accb42d8-eba2-4a70-bb30-b5903ddac7b0', embedding=None, metadata={'page_label': '6', 'file_name': 'serenatto_cafes_especiais.pdf', 'file_path': '/home/renan-peres/Área de trabalho/LLM/RAG/documents/serenatto_cafes_especiais.pdf', 'file_type': 'application/pdf', 'file_size': 133957, 'creation_date': '2025-04-25', 'last_modified_date': '2025-04-25'}, excluded_embed_metadata_keys=['file_name', 'file_type', 'file_size', 'creation_date', 'last_modified_date', 'last_accessed_date'], excluded_llm_metadata_keys=['file_name', 'file_type', 'file_size', 'creation_date', 'last_modified_date', 'last_accessed_date'], relationships={}, metadata_template='{key}: {value}', metadata_separator='\\n', text_resource=MediaResource(embeddings=None, data=None, text='Produção  dos  cafés   P:  Quais  são  os  processos  de  produção  dos  cafés?  R:  Nossos  cafés  podem  ter  os  seguintes  processos  de  produção:  -  Natural:  Os  frutos  do  café  (cerejas)  são  secos  inteiros,  resultando  em  cafés  com  \\nalta\\n \\ndoçura,\\n \\ncorpo\\n \\nencorpado\\n \\ne\\n \\nnotas\\n \\nfrutadas\\n \\nou\\n \\nde\\n \\nchocolate.\\n -  Cereja  descascado:  A  casca  dos  frutos  do  café  é  removida,  mas  parte  da  polpa  \\npermanece,\\n \\ngerando\\n \\ncafés\\n \\ncom\\n \\ndoçura\\n \\nequilibrada,\\n \\ncorpo\\n \\nmédio\\n \\na\\n \\nencorpado\\n \\ne\\n \\nacidez\\n \\nmais\\n \\npronunciada,\\n \\ncom\\n \\nnotas\\n \\ncítricas\\n \\ne\\n \\nfrutadas\\n -  Fermentado:  O  processo  fermentado  envolve  a  secagem  das  cerejas  inteiras  \\ncom\\n \\nfermentação\\n \\ncontrolada,\\n \\ndestacando\\n \\nsabores\\n \\nexóticos.\\n  P:  Como  a  torra  influencia  no  sabor  do  café?  R:  As  torras  influenciam  da  seguinte  forma:   -  Torra  clara:  Preserva  notas  frutadas,  florais  e  cítricas,  com  acidez  vibrante  e  \\ncorpo\\n \\nleve.\\n -  Torra  média:  Equilíbrio  entre  doçura  e  acidez,  com  notas  de  chocolate,  caramelo  \\ne\\n \\nnozes,\\n \\nalém\\n \\nde\\n \\num\\n \\ncorpo\\n \\nmais\\n \\nencorpado.\\n -  Torra  escura:  Sabores  intensos  e  amargos,  acidez  baixa  e  corpo  pesado,  comum  \\nem\\n \\ncafés\\n \\npara\\n \\nespresso\\n \\nou\\n \\npara\\n \\nquem\\n \\nprefere\\n \\nsabores\\n \\nmais\\n \\nrobustos.\\n  P:  Como  a  altitude  afeta  os  grãos  de  café?   R:  A  altitude  em  que  os  grãos  de  café  são  cultivados  desempenha  um  papel  \\nfundamental\\n \\nno\\n \\ndesenvolvimento\\n \\ndas\\n \\ncaracterísticas\\n \\ndo\\n \\ncafé.\\n \\nDe\\n \\nmaneira\\n \\ngeral,\\n \\nquanto\\n \\nmaior\\n \\na\\n \\naltitude,\\n \\nmais\\n \\nlentamente\\n \\no\\n \\ncafé\\n \\namadurece.\\n \\nIsso\\n \\nproporciona\\n \\nmais\\n \\ntempo\\n \\npara\\n \\nque\\n \\nos\\n \\ngrãos\\n \\ndesenvolvam\\n \\nsabores\\n \\ncomplexos\\n \\ne\\n \\nnuances\\n \\naromáticas.\\n \\n               ', path=None, url=None, mimetype=None), image_resource=None, audio_resource=None, video_resource=None, text_template='{metadata_str}\\n\\n{content}'),\n",
       " Document(id_='af8d07b4-67f9-447d-9561-06ca581761fe', embedding=None, metadata={'page_label': '7', 'file_name': 'serenatto_cafes_especiais.pdf', 'file_path': '/home/renan-peres/Área de trabalho/LLM/RAG/documents/serenatto_cafes_especiais.pdf', 'file_type': 'application/pdf', 'file_size': 133957, 'creation_date': '2025-04-25', 'last_modified_date': '2025-04-25'}, excluded_embed_metadata_keys=['file_name', 'file_type', 'file_size', 'creation_date', 'last_modified_date', 'last_accessed_date'], excluded_llm_metadata_keys=['file_name', 'file_type', 'file_size', 'creation_date', 'last_modified_date', 'last_accessed_date'], relationships={}, metadata_template='{key}: {value}', metadata_separator='\\n', text_resource=MediaResource(embeddings=None, data=None, text='Modo  de  preparo  recomendado:  Coado   P:  Quanto  de  café  devo  usar  para  preparar  os  cafés  da  Serenatto?  R:  Para  obter  os  melhores  resultados  na  preparação  dos  nossos  cafés,  sugerimos  \\nseguir\\n \\numa\\n \\nreceita\\n \\nbase\\n \\nonde\\n \\n15\\n \\ngramas\\n \\nde\\n \\ncafé\\n \\nsão\\n \\nusados\\n \\npara\\n \\ncada\\n \\n240\\n \\nmL\\n \\nde\\n \\nágua.\\n \\nEsta\\n \\nproporção\\n \\n(1:16)\\n \\né\\n \\nideal\\n \\npara\\n \\numa\\n \\nextração\\n \\ncompleta\\n \\ndos\\n \\nsabores\\n \\nricos\\n \\ne\\n \\nnuances\\n \\ndo\\n \\ncafé.\\n \\nClaro,\\n \\nvocê\\n \\npode\\n \\najustar\\n \\nas\\n \\nmedidas\\n \\npara\\n \\nmais\\n \\nou\\n \\npara\\n \\nmenos\\n \\nconforme\\n \\nsua\\n \\npreferência.\\n \\nCaso\\n \\nseja\\n \\nsua\\n \\nprimeira\\n \\nexperiência\\n \\ncom\\n \\nnossos\\n \\ncafés,\\n \\nessa\\n \\nreceita\\n \\nserve\\n \\ncomo\\n \\num\\n \\nexcelente\\n \\nponto\\n \\nde\\n \\npartida.\\n  P:  Qual  método  vocês  recomendam  para  preparar  os  cafés  da  Serenatto?  R:  Nós  recomendamos  o  V60,  um  método  de  preparo  de  café  que  se  destaca  pelo  seu  \\nformato\\n \\ncônico\\n \\ncom\\n \\nlinhas\\n \\nespirais\\n \\ninternas\\n \\ne\\n \\numa\\n \\ngrande\\n \\nabertura\\n \\nna\\n \\nbase.\\n \\nEssas\\n \\ncaracterísticas\\n \\npermitem\\n \\num\\n \\ncontrole\\n \\npreciso\\n \\nsobre\\n \\na\\n \\ninfusão,\\n \\nresultando\\n \\nem\\n \\num\\n \\ncafé\\n \\ncom\\n \\nextração\\n \\nuniforme\\n \\ne\\n \\nrica\\n \\nem\\n \\nsabores.\\n  P:  Qual  é  o  passo  a  passo  para  preparar  o  café  coado?  R:  Você  pode  seguir  as  seguintes  etapas  do  preparo:  1.  Preparação  da  água:  Aqueça  a  água  até  uma  temperatura  entre  94ºC  e  96ºC.  2.  Pesagem  do  café:  Use  a  proporção  de  1  grama  de  café  para  cada  16  mL  de  água.  3.  Moagem  do  café:  Moa  o  café  até  atingir  uma  granulação  média-fina,  semelhante  a  \\naçúcar\\n \\ncristal.\\n \\n 4.  Preparação  do  filtro:  Coloque  o  filtro  de  papel  no  suporte  V60.  Antes  de  adicionar  o  \\ncafé,\\n \\nescalde\\n \\no\\n \\nfiltro\\n \\ncom\\n \\nágua\\n \\nquente\\n \\npara\\n \\nremover\\n \\nqualquer\\n \\nsabor\\n \\nde\\n \\npapel\\n \\ne\\n \\npré-aquecer\\n \\no\\n \\nsuporte.\\n 5.  Adição  do  café:  Despeje  o  pó  no  filtro.  6.  Infusão:  Adicione  a  água  quente  lentamente  sobre  o  café,  preferencialmente  em  \\nciclos,\\n \\ncomeçando\\n \\ndo\\n \\ncentro\\n \\ne\\n \\nmovendo\\n \\npara\\n \\nfora\\n \\nem\\n \\nmovimento\\n \\nespiral.\\n \\nIsso\\n \\najuda\\n \\na\\n \\ngarantir\\n \\numa\\n \\nextração\\n \\nuniforme\\n \\nde\\n \\ntodos\\n \\nos\\n \\nsabores\\n \\ne\\n \\naromas.\\n 7.  Finalização:  Após  a  passagem  da  água,  remova  o  filtro  e  descarte-o.  Agora  é  só  \\nservir\\n \\ne\\n \\ndesfrutar\\n \\ndo\\n \\nseu\\n \\ndelicioso\\n \\ncafé.\\n  P:  Que  tipo  de  água  devo  usar  para  fazer  café?   R:  Recomendamos  usar  água  filtrada  com  baixo  teor  de  minerais.  A  qualidade  da  água  \\ntem\\n \\num\\n \\ngrande\\n \\nimpacto\\n \\nno\\n \\nsabor\\n \\nfinal\\n \\ndo\\n \\ncafé,\\n \\npor\\n \\nisso\\n \\nágua\\n \\npura,\\n \\nsem\\n \\ncloro\\n \\nou\\n \\nimpurezas,\\n \\né\\n \\nessencial.\\n     ', path=None, url=None, mimetype=None), image_resource=None, audio_resource=None, video_resource=None, text_template='{metadata_str}\\n\\n{content}'),\n",
       " Document(id_='f2732dfd-46b2-4a1b-a5ac-a91bd37c23e5', embedding=None, metadata={'page_label': '8', 'file_name': 'serenatto_cafes_especiais.pdf', 'file_path': '/home/renan-peres/Área de trabalho/LLM/RAG/documents/serenatto_cafes_especiais.pdf', 'file_type': 'application/pdf', 'file_size': 133957, 'creation_date': '2025-04-25', 'last_modified_date': '2025-04-25'}, excluded_embed_metadata_keys=['file_name', 'file_type', 'file_size', 'creation_date', 'last_modified_date', 'last_accessed_date'], excluded_llm_metadata_keys=['file_name', 'file_type', 'file_size', 'creation_date', 'last_modified_date', 'last_accessed_date'], relationships={}, metadata_template='{key}: {value}', metadata_separator='\\n', text_resource=MediaResource(embeddings=None, data=None, text='Café  gelado   P:  Como  posso  preparar  café  gelado?   R:  Para  preparar  um  delicioso  café  gelado,  você  pode  usar  o  método  do  coado,  \\ncontendo\\n \\n40%\\n \\ndo\\n \\nvolume\\n \\nem\\n \\ngelo\\n \\ne\\n \\n60%\\n \\ndo\\n \\nvolume\\n \\nem\\n \\nágua\\n \\nquente,\\n \\nseguindo\\n \\nas\\n \\nseguintes\\n \\netapas:\\n 1.  Pesagem  do  café:  Use  a  proporção  de  1  grama  de  café  para  cada  16  mL  de  água  \\ntotal\\n 2.  Moagem  do  Café:  Moa  o  café  levemente  mais  fino  do  que  o  usado  para  coado  \\nnormal.\\n \\nIsso\\n \\najudará\\n \\nna\\n \\nextração\\n \\ndos\\n \\nsabores,\\n \\ndado\\n \\no\\n \\ntempo\\n \\nde\\n \\ncontato\\n \\nmais\\n \\ncurto\\n \\ncom\\n \\na\\n \\nágua.\\n 3.  Preparação  do  Filtro:  Coloque  o  filtro  de  papel  no  suporte  e  escalde-o  com  água  \\nquente.\\n \\nIsso\\n \\nremove\\n \\nqualquer\\n \\nsabor\\n \\nresidual\\n \\ndo\\n \\npapel\\n \\ne\\n \\najuda\\n \\na\\n \\npré-aquecer\\n \\no\\n \\nsuporte.\\n 4.  Preparação  do  Gelo:  Coloque  gelo  para  ocupar  cerca  de  40%  do  volume  total  da  sua  \\njarra\\n \\nou\\n \\nrecipiente.\\n 5.  Adição  do  café:  Despeje  o  pó  no  filtro.  6.  Pré-infusão:  Adicione  uma  pequena  quantidade  de  água  quente  (entre  94ºC  e  96ºC)  \\nsobre\\n \\no\\n \\ncafé\\n \\nmoído\\n \\nno\\n \\nfiltro,\\n \\nsuficiente\\n \\npara\\n \\numedecer\\n \\ntodo\\n \\no\\n \\ncafé.\\n \\nDeixe\\n \\nem\\n \\npré-infusão\\n \\npor\\n \\n1\\n \\nminuto\\n \\npara\\n \\nliberar\\n \\nos\\n \\nóleos\\n \\nessenciais\\n \\ne\\n \\naromas\\n \\ndo\\n \\ncafé.\\n \\n 7.  Despejo:  Após  a  pré-infusão,  continue  adicionando  a  água  quente  em  ciclos,  \\ndespejando\\n \\nlentamente\\n \\nem\\n \\nmovimentos\\n \\ncirculares\\n \\npara\\n \\ngarantir\\n \\numa\\n \\nextração\\n \\nuniforme.\\n 8.  Finalização:  Após  completar  os  despejos,  deixe  o  café  terminar  de  filtrar  sobre  o  \\ngelo.\\n \\nO\\n \\ngelo\\n \\nderreterá\\n \\nparcialmente,\\n \\nresfriando\\n \\no\\n \\ncafé\\n \\ninstantaneamente\\n \\ne\\n \\ndiluindo-o\\n \\nna\\n \\nproporção\\n \\ncorreta.\\n Este  método  garante  um  café  coado  gelado  refrescante  e  saboroso,  perfeito  para  os  \\ndias\\n \\nmais\\n \\nquentes!\\n              ', path=None, url=None, mimetype=None), image_resource=None, audio_resource=None, video_resource=None, text_template='{metadata_str}\\n\\n{content}'),\n",
       " Document(id_='3036eb17-1c72-40d4-aa2a-7bfeb9f2f74f', embedding=None, metadata={'page_label': '9', 'file_name': 'serenatto_cafes_especiais.pdf', 'file_path': '/home/renan-peres/Área de trabalho/LLM/RAG/documents/serenatto_cafes_especiais.pdf', 'file_type': 'application/pdf', 'file_size': 133957, 'creation_date': '2025-04-25', 'last_modified_date': '2025-04-25'}, excluded_embed_metadata_keys=['file_name', 'file_type', 'file_size', 'creation_date', 'last_modified_date', 'last_accessed_date'], excluded_llm_metadata_keys=['file_name', 'file_type', 'file_size', 'creation_date', 'last_modified_date', 'last_accessed_date'], relationships={}, metadata_template='{key}: {value}', metadata_separator='\\n', text_resource=MediaResource(embeddings=None, data=None, text='Outros  métodos  de  preparo  além  do  recomendado:   P:  Posso  usar  os  cafés  da  Serenatto  em  máquinas  de  espresso?  R:  Sim,  nossos  cafés  podem  ser  usados  em  máquinas  de  espresso.  Para  esse  método,  \\nrecomendamos\\n \\numa\\n \\nmoagem\\n \\nfina\\n \\ne\\n \\ncafés\\n \\ncom\\n \\ntorra\\n \\nmédia\\n \\nou\\n \\nescura,\\n \\ncomo\\n \\no\\n \\nBourbon\\n \\nvermelho\\n \\nou\\n \\no\\n \\nBlend\\n \\nespecial,\\n \\nque\\n \\npossuem\\n \\ncorpo\\n \\nencorpado\\n \\ne\\n \\nsabores\\n \\nintensos.\\n  P:  Vocês  têm  dicas  para  French  Press?  R:  Para  o  French  Press,  recomendamos  uma  moagem  grossa  e  uma  proporção  de  \\n1:15\\n \\n(1\\n \\ngrama\\n \\nde\\n \\ncafé\\n \\npara\\n \\n15\\n \\nmL\\n \\nde\\n \\nágua).\\n \\nUse\\n \\nágua\\n \\na\\n \\n94ºC\\n \\ne\\n \\ndeixe\\n \\no\\n \\ncafé\\n \\nem\\n \\ninfusão\\n \\npor\\n \\n4\\n \\nminutos.\\n \\nDepois,\\n \\npressione\\n \\no\\n \\nêmbolo\\n \\nlentamente\\n \\ne\\n \\nsirva\\n \\nimediatamente.\\n  P:  Qual  café  é  melhor  para  preparo  cold  brew?  R:  Para  cold  brew,  recomendamos  o  Catuaí  amarelo  ou  o  yirgacheffe,  que  possuem  \\nnotas\\n \\nfrutadas\\n \\ne\\n \\nacidez\\n \\nvibrante,\\n \\ncaracterísticas\\n \\nque\\n \\nse\\n \\ndestacam\\n \\nnesse\\n \\nmétodo\\n \\nde\\n \\npreparo.\\n \\nUse\\n \\numa\\n \\nmoagem\\n \\ngrossa\\n \\ne\\n \\ndeixe\\n \\nem\\n \\ninfusão\\n \\npor\\n \\n12\\n \\na\\n \\n24\\n \\nhoras\\n \\nna\\n \\ngeladeira.\\n  P:  Qual  é  a  moagem  ideal  para  diferentes  tipos  de  preparo?   R:  A  moagem  varia  de  acordo  com  o  método  de  preparo:  ●  Espresso:  Moagem  fina  ●  V60:  Moagem  média-fina  ●  French  Press:  Moagem  grossa  ●  Cold  Brew:  Moagem  grossa   Adaptar  a  moagem  ao  método  de  preparo  ajuda  a  maximizar  o  sabor  e  a  qualidade  da  \\nbebida.\\n  P:  Por  que  moer  o  café  na  hora  é  importante?  R:  Moer  o  café  na  hora  é  essencial  para  garantir  uma  bebida  de  alta  qualidade,  pois  \\npreserva\\n \\no\\n \\nfrescor,\\n \\no\\n \\naroma\\n \\ne\\n \\nos\\n \\nsabores\\n \\nnaturais\\n \\ndos\\n \\ngrãos.\\n \\nQuando\\n \\no\\n \\ncafé\\n \\né\\n \\nmoído,\\n \\nseus\\n \\nóleos\\n \\ne\\n \\ncompostos\\n \\naromáticos\\n \\ncomeçam\\n \\na\\n \\nse\\n \\ndegradar\\n \\nrapidamente\\n \\nem\\n \\ncontato\\n \\ncom\\n \\no\\n \\nar.\\n \\nMoer\\n \\nna\\n \\nhora\\n \\nevita\\n \\nessa\\n \\nperda,\\n \\nresultando\\n \\nem\\n \\num\\n \\ncafé\\n \\nmais\\n \\nrico\\n \\ne\\n \\nsaboroso.\\n \\nAlém\\n \\ndisso,\\n \\npermite\\n \\najustar\\n \\na\\n \\nmoagem\\n \\npara\\n \\no\\n \\nmétodo\\n \\nde\\n \\npreparo\\n \\nescolhido,\\n \\ngarantindo\\n \\numa\\n \\nextração\\n \\nequilibrada\\n \\ne\\n \\nevitando\\n \\nsabores\\n \\naguados\\n \\nou\\n \\namargos.\\n \\n \\n ', path=None, url=None, mimetype=None), image_resource=None, audio_resource=None, video_resource=None, text_template='{metadata_str}\\n\\n{content}'),\n",
       " Document(id_='41021712-e4d2-43f9-b96a-2ccd6b9be0c7', embedding=None, metadata={'page_label': '10', 'file_name': 'serenatto_cafes_especiais.pdf', 'file_path': '/home/renan-peres/Área de trabalho/LLM/RAG/documents/serenatto_cafes_especiais.pdf', 'file_type': 'application/pdf', 'file_size': 133957, 'creation_date': '2025-04-25', 'last_modified_date': '2025-04-25'}, excluded_embed_metadata_keys=['file_name', 'file_type', 'file_size', 'creation_date', 'last_modified_date', 'last_accessed_date'], excluded_llm_metadata_keys=['file_name', 'file_type', 'file_size', 'creation_date', 'last_modified_date', 'last_accessed_date'], relationships={}, metadata_template='{key}: {value}', metadata_separator='\\n', text_resource=MediaResource(embeddings=None, data=None, text='Armazenamento  e  validade   P:  Como  devo  armazenar  os  grãos  de  café  para  manter  a  qualidade?  R:  Recomendamos  armazenar  os  grãos  em  um  recipiente  hermético,  longe  da  umidade  \\ne\\n \\ncalor.\\n \\nEvite\\n \\nguardar\\n \\no\\n \\ncafé\\n \\nna\\n \\ngeladeira,\\n \\npois\\n \\na\\n \\numidade\\n \\ne\\n \\nas\\n \\nvariações\\n \\nde\\n \\ntemperatura\\n \\npodem\\n \\nprejudicar\\n \\no\\n \\nsabor\\n \\ne\\n \\no\\n \\naroma.\\n  P:  Qual  é  a  validade  dos  cafés  da  Serenatto?  R:  Nossos  cafés  são  enviados  recém-torrados  para  garantir  frescor.  Para  uma  \\nexperiência\\n \\nmelhor\\n \\ncom\\n \\nas\\n \\ncaracterísticas\\n \\ndas\\n \\nnotas\\n \\nsensoriais\\n \\ne\\n \\na\\n \\nintensidade\\n \\ndo\\n \\naroma,\\n \\no\\n \\nconsumo\\n \\ndeve\\n \\nser\\n \\nentre\\n \\ntrês\\n \\ne\\n \\nquatro\\n \\nmeses.\\n \\nNo\\n \\nentanto,\\n \\ndepois\\n \\nde\\n \\naberto,\\n \\no\\n \\nconsumo\\n \\ndeve\\n \\nser,\\n \\nde\\n \\npreferência,\\n \\nentre\\n \\nduas\\n \\n(quando\\n \\nestiver\\n \\nmoído)\\n \\na\\n \\nquatro\\n \\nsemanas\\n \\n(em\\n \\ngrãos)\\n \\nda\\n \\ndata\\n \\nda\\n \\ntorra.\\n  ', path=None, url=None, mimetype=None), image_resource=None, audio_resource=None, video_resource=None, text_template='{metadata_str}\\n\\n{content}')]"
      ]
     },
     "execution_count": 170,
     "metadata": {},
     "output_type": "execute_result"
    }
   ],
   "source": [
    "docs"
   ]
  },
  {
   "cell_type": "code",
   "execution_count": 171,
   "id": "d6049ebb",
   "metadata": {},
   "outputs": [
    {
     "data": {
      "text/plain": [
       "10"
      ]
     },
     "execution_count": 171,
     "metadata": {},
     "output_type": "execute_result"
    }
   ],
   "source": [
    "len(docs)"
   ]
  },
  {
   "cell_type": "code",
   "execution_count": 172,
   "id": "98275d95",
   "metadata": {},
   "outputs": [
    {
     "name": "stdout",
     "output_type": "stream",
     "text": [
      "page_label: 1\n",
      "file_name: serenatto_cafes_especiais.pdf\n",
      "file_path: /home/renan-peres/Área de trabalho/LLM/RAG/documents/serenatto_cafes_especiais.pdf\n",
      "file_type: application/pdf\n",
      "file_size: 133957\n",
      "creation_date: 2025-04-25\n",
      "last_modified_date: 2025-04-25\n"
     ]
    }
   ],
   "source": [
    "print(docs[0].get_metadata_str())"
   ]
  },
  {
   "cell_type": "code",
   "execution_count": 173,
   "id": "0ddf9938",
   "metadata": {},
   "outputs": [
    {
     "data": {
      "text/plain": [
       "{'id_': '03a5f625-3f7b-4136-903d-7282241c739e',\n",
       " 'embedding': None,\n",
       " 'metadata': {'page_label': '1',\n",
       "  'file_name': 'serenatto_cafes_especiais.pdf',\n",
       "  'file_path': '/home/renan-peres/Área de trabalho/LLM/RAG/documents/serenatto_cafes_especiais.pdf',\n",
       "  'file_type': 'application/pdf',\n",
       "  'file_size': 133957,\n",
       "  'creation_date': '2025-04-25',\n",
       "  'last_modified_date': '2025-04-25'},\n",
       " 'excluded_embed_metadata_keys': ['file_name',\n",
       "  'file_type',\n",
       "  'file_size',\n",
       "  'creation_date',\n",
       "  'last_modified_date',\n",
       "  'last_accessed_date'],\n",
       " 'excluded_llm_metadata_keys': ['file_name',\n",
       "  'file_type',\n",
       "  'file_size',\n",
       "  'creation_date',\n",
       "  'last_modified_date',\n",
       "  'last_accessed_date'],\n",
       " 'relationships': {},\n",
       " 'metadata_template': '{key}: {value}',\n",
       " 'metadata_separator': '\\n',\n",
       " 'text_resource': MediaResource(embeddings=None, data=None, text='Serenatto  –  Loja  online  de  cafés  especiais   Informações  gerais   P:  Quais  produtos  são  vendidos  no  site  da  Serenatto?  R:  A  Serenatto  é  uma  loja  online  especializada  na  venda  de  grãos  de  cafés  especiais,  \\noferecendo\\n \\ngrãos\\n \\ntorrados,\\n \\nprovenientes\\n \\nde\\n \\nfazendas\\n \\nselecionadas\\n \\nde\\n \\nMinas\\n \\nGerais.\\n \\nTodos\\n \\nos\\n \\nnossos\\n \\ncafés\\n \\npossuem\\n \\nnota\\n \\nSCA\\n \\nacima\\n \\nde\\n \\n80,\\n \\ngarantindo\\n \\nalta\\n \\nqualidade\\n \\ne\\n \\nperfis\\n \\nsensoriais\\n \\nexcepcionais.\\n  P:  De  onde  vêm  os  grãos  de  café  da  Serenatto?   R:  Nossos  grãos  são  cuidadosamente  selecionados  de  fazendas  localizadas  em  Minas  \\nGerais,\\n \\nconhecidas\\n \\npela\\n \\nalta\\n \\nqualidade\\n \\nde\\n \\nseus\\n \\ncafés\\n \\nespeciais.\\n \\nCada\\n \\nfazenda\\n \\né\\n \\nescolhida\\n \\npor\\n \\nsuas\\n \\npráticas\\n \\nsustentáveis\\n \\ne\\n \\npelo\\n \\ncuidado\\n \\nexcepcional\\n \\ncom\\n \\na\\n \\nprodução.\\n  P:  Qual  é  a  quantidade  vendida?  R:  Os  grãos  já  torrados  são  vendidos  em  pacotes  de  250g   P:  Quais  são  as  variedades  de  café  disponíveis?  R:  Trabalhamos  com  as  seguintes  variedades  de  café  em  grãos:  ●  Bourbon  vermelho  ●  Bourbon  amarelo  ●  Blend  especial  (Mistura  de  Bourbon  amarelo  e  vermelho)  ●  Catuaí  amarelo  ●  Geisha  ●  Yirgacheffe   P:  Quais  são  os  preços  de  cada  variedade  de  café?  R:  Os  preços  sãos  os  seguintes:  ●  Bourbon  vermelho:  R$  41,00  ●  Bourbon  amarelo:  R$  43,00  ●  Blend  especial:  R$  37,50  ●  Catuaí  amarelo:  R$  55,00  ●  Geisha:  R$  105,00  ●  Yirgacheffe:  R$  110,00      ', path=None, url=None, mimetype=None),\n",
       " 'image_resource': None,\n",
       " 'audio_resource': None,\n",
       " 'video_resource': None,\n",
       " 'text_template': '{metadata_str}\\n\\n{content}'}"
      ]
     },
     "execution_count": 173,
     "metadata": {},
     "output_type": "execute_result"
    }
   ],
   "source": [
    "docs[0].__dict__"
   ]
  },
  {
   "cell_type": "code",
   "execution_count": 174,
   "id": "ac286560",
   "metadata": {},
   "outputs": [],
   "source": [
    "from llama_index.core.node_parser import SentenceSplitter\n",
    "\n",
    "# tecnica chunks\n",
    "# chunk size = numero de caracteres que serao usados para criar os blocos\n",
    "node_parser = SentenceSplitter(chunk_size=1200)"
   ]
  },
  {
   "cell_type": "code",
   "execution_count": 175,
   "id": "41a1c8b0",
   "metadata": {},
   "outputs": [
    {
     "name": "stderr",
     "output_type": "stream",
     "text": [
      "Parsing nodes: 100%|██████████| 10/10 [00:00<00:00, 115.09it/s]\n"
     ]
    }
   ],
   "source": [
    "nodes = node_parser.get_nodes_from_documents(docs, show_progress=True)"
   ]
  },
  {
   "cell_type": "code",
   "execution_count": 176,
   "id": "de039562",
   "metadata": {},
   "outputs": [
    {
     "data": {
      "text/plain": [
       "10"
      ]
     },
     "execution_count": 176,
     "metadata": {},
     "output_type": "execute_result"
    }
   ],
   "source": [
    "len(nodes)"
   ]
  },
  {
   "cell_type": "code",
   "execution_count": 177,
   "id": "5e3ade60",
   "metadata": {},
   "outputs": [
    {
     "data": {
      "text/plain": [
       "TextNode(id_='53faf23d-561b-4495-a090-0bc5cb0a129c', embedding=None, metadata={'page_label': '1', 'file_name': 'serenatto_cafes_especiais.pdf', 'file_path': '/home/renan-peres/Área de trabalho/LLM/RAG/documents/serenatto_cafes_especiais.pdf', 'file_type': 'application/pdf', 'file_size': 133957, 'creation_date': '2025-04-25', 'last_modified_date': '2025-04-25'}, excluded_embed_metadata_keys=['file_name', 'file_type', 'file_size', 'creation_date', 'last_modified_date', 'last_accessed_date'], excluded_llm_metadata_keys=['file_name', 'file_type', 'file_size', 'creation_date', 'last_modified_date', 'last_accessed_date'], relationships={<NodeRelationship.SOURCE: '1'>: RelatedNodeInfo(node_id='03a5f625-3f7b-4136-903d-7282241c739e', node_type=<ObjectType.DOCUMENT: '4'>, metadata={'page_label': '1', 'file_name': 'serenatto_cafes_especiais.pdf', 'file_path': '/home/renan-peres/Área de trabalho/LLM/RAG/documents/serenatto_cafes_especiais.pdf', 'file_type': 'application/pdf', 'file_size': 133957, 'creation_date': '2025-04-25', 'last_modified_date': '2025-04-25'}, hash='243f7c0bef8a374f10b777d9c04d0ec5e719d030a92e82a3fdb3a7da158af0e0')}, metadata_template='{key}: {value}', metadata_separator='\\n', text='Serenatto  –  Loja  online  de  cafés  especiais   Informações  gerais   P:  Quais  produtos  são  vendidos  no  site  da  Serenatto?  R:  A  Serenatto  é  uma  loja  online  especializada  na  venda  de  grãos  de  cafés  especiais,  \\noferecendo\\n \\ngrãos\\n \\ntorrados,\\n \\nprovenientes\\n \\nde\\n \\nfazendas\\n \\nselecionadas\\n \\nde\\n \\nMinas\\n \\nGerais.\\n \\nTodos\\n \\nos\\n \\nnossos\\n \\ncafés\\n \\npossuem\\n \\nnota\\n \\nSCA\\n \\nacima\\n \\nde\\n \\n80,\\n \\ngarantindo\\n \\nalta\\n \\nqualidade\\n \\ne\\n \\nperfis\\n \\nsensoriais\\n \\nexcepcionais.\\n  P:  De  onde  vêm  os  grãos  de  café  da  Serenatto?   R:  Nossos  grãos  são  cuidadosamente  selecionados  de  fazendas  localizadas  em  Minas  \\nGerais,\\n \\nconhecidas\\n \\npela\\n \\nalta\\n \\nqualidade\\n \\nde\\n \\nseus\\n \\ncafés\\n \\nespeciais.\\n \\nCada\\n \\nfazenda\\n \\né\\n \\nescolhida\\n \\npor\\n \\nsuas\\n \\npráticas\\n \\nsustentáveis\\n \\ne\\n \\npelo\\n \\ncuidado\\n \\nexcepcional\\n \\ncom\\n \\na\\n \\nprodução.\\n  P:  Qual  é  a  quantidade  vendida?  R:  Os  grãos  já  torrados  são  vendidos  em  pacotes  de  250g   P:  Quais  são  as  variedades  de  café  disponíveis?  R:  Trabalhamos  com  as  seguintes  variedades  de  café  em  grãos:  ●  Bourbon  vermelho  ●  Bourbon  amarelo  ●  Blend  especial  (Mistura  de  Bourbon  amarelo  e  vermelho)  ●  Catuaí  amarelo  ●  Geisha  ●  Yirgacheffe   P:  Quais  são  os  preços  de  cada  variedade  de  café?  R:  Os  preços  sãos  os  seguintes:  ●  Bourbon  vermelho:  R$  41,00  ●  Bourbon  amarelo:  R$  43,00  ●  Blend  especial:  R$  37,50  ●  Catuaí  amarelo:  R$  55,00  ●  Geisha:  R$  105,00  ●  Yirgacheffe:  R$  110,00', mimetype='text/plain', start_char_idx=0, end_char_idx=1515, metadata_seperator='\\n', text_template='{metadata_str}\\n\\n{content}')"
      ]
     },
     "execution_count": 177,
     "metadata": {},
     "output_type": "execute_result"
    }
   ],
   "source": [
    "nodes[0]"
   ]
  },
  {
   "cell_type": "code",
   "execution_count": 178,
   "id": "9db7f095",
   "metadata": {},
   "outputs": [],
   "source": [
    "# embedding cria vetores\n",
    "from llama_index.embeddings.huggingface import HuggingFaceEmbedding"
   ]
  },
  {
   "cell_type": "code",
   "execution_count": 179,
   "id": "6a986a87",
   "metadata": {},
   "outputs": [],
   "source": [
    "# Classe personalizada para adptar a assinatura esperada pelo Chroma\n",
    "class ChromaEmbeddingWrapper:\n",
    "    def __init__(self, model_name):\n",
    "        self.model = HuggingFaceEmbedding(model_name=model_name)\n",
    "\n",
    "    def __call__(self, input):\n",
    "        return self.model.embed(input)"
   ]
  },
  {
   "cell_type": "code",
   "execution_count": 180,
   "id": "442696dd",
   "metadata": {},
   "outputs": [],
   "source": [
    "embed_model_chroma = ChromaEmbeddingWrapper(model_name='intfloat/multilingual-e5-large')"
   ]
  },
  {
   "cell_type": "code",
   "execution_count": 181,
   "id": "f5752187",
   "metadata": {},
   "outputs": [],
   "source": [
    "import chromadb\n",
    "\n",
    "db = chromadb.PersistentClient(path='./chroma_db')\n",
    "chroma_client = db\n",
    "\n",
    "collection_name = 'documentos_serenatto'\n",
    "\n",
    "try:\n",
    "    chroma_collection = chroma_client.get_or_create_collection(\n",
    "        name = collection_name,\n",
    "        embedding_function = embed_model_chroma \n",
    "    )\n",
    "\n",
    "except Exception as e:\n",
    "    print(f'Erro ao carregar ou criar coleção: {e}')"
   ]
  },
  {
   "cell_type": "code",
   "execution_count": 182,
   "id": "5f223c06",
   "metadata": {},
   "outputs": [],
   "source": [
    "from llama_index.vector_stores.chroma import ChromaVectorStore\n",
    "from llama_index.core import StorageContext"
   ]
  },
  {
   "cell_type": "code",
   "execution_count": 183,
   "id": "e5c776ea",
   "metadata": {},
   "outputs": [],
   "source": [
    "vector_store = ChromaVectorStore(chroma_collection=chroma_collection)\n",
    "storage_context = StorageContext.from_defaults(vector_store=vector_store)"
   ]
  },
  {
   "cell_type": "code",
   "execution_count": 184,
   "id": "c4c385db",
   "metadata": {},
   "outputs": [],
   "source": [
    "embed_model = HuggingFaceEmbedding(model_name='intfloat/multilingual-e5-large')"
   ]
  },
  {
   "cell_type": "code",
   "execution_count": 185,
   "id": "a6165e40",
   "metadata": {},
   "outputs": [],
   "source": [
    "from llama_index.core import VectorStoreIndex\n",
    "\n",
    "index = VectorStoreIndex(nodes, storage_context=storage_context, embed_model=embed_model)"
   ]
  },
  {
   "cell_type": "code",
   "execution_count": 186,
   "id": "ed468dab",
   "metadata": {},
   "outputs": [],
   "source": [
    "from llama_index.core import load_index_from_storage\n",
    "\n",
    "index = load_index_from_storage(storage_context, embed_model=embed_model)"
   ]
  },
  {
   "cell_type": "code",
   "execution_count": 187,
   "id": "1e8206ae",
   "metadata": {},
   "outputs": [],
   "source": [
    "from dotenv import load_dotenv\n",
    "import os\n",
    "load_dotenv()\n",
    "GROQ_API = os.getenv('GROQ_API')"
   ]
  },
  {
   "cell_type": "code",
   "execution_count": 188,
   "id": "4269accb",
   "metadata": {},
   "outputs": [],
   "source": [
    "from llama_index.llms.groq import Groq\n",
    "\n",
    "llm = Groq(model='llama3-70b-8192', api_key=GROQ_API)"
   ]
  },
  {
   "cell_type": "code",
   "execution_count": 189,
   "id": "b09d9a8c",
   "metadata": {},
   "outputs": [],
   "source": [
    "query_engine = index.as_query_engine(llm=llm, similarity_top_k=2)"
   ]
  },
  {
   "cell_type": "code",
   "execution_count": 190,
   "id": "5c7a29e9",
   "metadata": {},
   "outputs": [
    {
     "data": {
      "text/plain": [
       "Response(response='Os grãos disponíveis são: Bourbon vermelho, Bourbon amarelo, Blend especial (Mistura de Bourbon amarelo e vermelho), Catuaí amarelo, Geisha e Yirgacheffe.', source_nodes=[NodeWithScore(node=TextNode(id_='ece5cfe7-2300-449a-90ec-4a6fb4af8977', embedding=None, metadata={'page_label': '1', 'file_name': 'serenatto_cafes_especiais.pdf', 'file_path': '/home/renan-peres/Área de trabalho/LLM/RAG/documents/serenatto_cafes_especiais.pdf', 'file_type': 'application/pdf', 'file_size': 133957, 'creation_date': '2025-04-25', 'last_modified_date': '2025-04-25'}, excluded_embed_metadata_keys=['file_name', 'file_type', 'file_size', 'creation_date', 'last_modified_date', 'last_accessed_date'], excluded_llm_metadata_keys=['file_name', 'file_type', 'file_size', 'creation_date', 'last_modified_date', 'last_accessed_date'], relationships={<NodeRelationship.SOURCE: '1'>: RelatedNodeInfo(node_id='25809342-cf96-45b0-b636-4ca19d6437ae', node_type='4', metadata={'page_label': '1', 'file_name': 'serenatto_cafes_especiais.pdf', 'file_path': '/home/renan-peres/Área de trabalho/LLM/RAG/documents/serenatto_cafes_especiais.pdf', 'file_type': 'application/pdf', 'file_size': 133957, 'creation_date': '2025-04-25', 'last_modified_date': '2025-04-25'}, hash='243f7c0bef8a374f10b777d9c04d0ec5e719d030a92e82a3fdb3a7da158af0e0')}, metadata_template='{key}: {value}', metadata_separator='\\n', text='Serenatto  –  Loja  online  de  cafés  especiais   Informações  gerais   P:  Quais  produtos  são  vendidos  no  site  da  Serenatto?  R:  A  Serenatto  é  uma  loja  online  especializada  na  venda  de  grãos  de  cafés  especiais,  \\noferecendo\\n \\ngrãos\\n \\ntorrados,\\n \\nprovenientes\\n \\nde\\n \\nfazendas\\n \\nselecionadas\\n \\nde\\n \\nMinas\\n \\nGerais.\\n \\nTodos\\n \\nos\\n \\nnossos\\n \\ncafés\\n \\npossuem\\n \\nnota\\n \\nSCA\\n \\nacima\\n \\nde\\n \\n80,\\n \\ngarantindo\\n \\nalta\\n \\nqualidade\\n \\ne\\n \\nperfis\\n \\nsensoriais\\n \\nexcepcionais.\\n  P:  De  onde  vêm  os  grãos  de  café  da  Serenatto?   R:  Nossos  grãos  são  cuidadosamente  selecionados  de  fazendas  localizadas  em  Minas  \\nGerais,\\n \\nconhecidas\\n \\npela\\n \\nalta\\n \\nqualidade\\n \\nde\\n \\nseus\\n \\ncafés\\n \\nespeciais.\\n \\nCada\\n \\nfazenda\\n \\né\\n \\nescolhida\\n \\npor\\n \\nsuas\\n \\npráticas\\n \\nsustentáveis\\n \\ne\\n \\npelo\\n \\ncuidado\\n \\nexcepcional\\n \\ncom\\n \\na\\n \\nprodução.\\n  P:  Qual  é  a  quantidade  vendida?  R:  Os  grãos  já  torrados  são  vendidos  em  pacotes  de  250g   P:  Quais  são  as  variedades  de  café  disponíveis?  R:  Trabalhamos  com  as  seguintes  variedades  de  café  em  grãos:  ●  Bourbon  vermelho  ●  Bourbon  amarelo  ●  Blend  especial  (Mistura  de  Bourbon  amarelo  e  vermelho)  ●  Catuaí  amarelo  ●  Geisha  ●  Yirgacheffe   P:  Quais  são  os  preços  de  cada  variedade  de  café?  R:  Os  preços  sãos  os  seguintes:  ●  Bourbon  vermelho:  R$  41,00  ●  Bourbon  amarelo:  R$  43,00  ●  Blend  especial:  R$  37,50  ●  Catuaí  amarelo:  R$  55,00  ●  Geisha:  R$  105,00  ●  Yirgacheffe:  R$  110,00', mimetype='text/plain', start_char_idx=0, end_char_idx=1515, metadata_seperator='\\n', text_template='{metadata_str}\\n\\n{content}'), score=0.705748766076913)], metadata={'ece5cfe7-2300-449a-90ec-4a6fb4af8977': {'page_label': '1', 'file_name': 'serenatto_cafes_especiais.pdf', 'file_path': '/home/renan-peres/Área de trabalho/LLM/RAG/documents/serenatto_cafes_especiais.pdf', 'file_type': 'application/pdf', 'file_size': 133957, 'creation_date': '2025-04-25', 'last_modified_date': '2025-04-25'}})"
      ]
     },
     "execution_count": 190,
     "metadata": {},
     "output_type": "execute_result"
    }
   ],
   "source": [
    "query_engine.query('Quais grãos estão disponíveis?')"
   ]
  },
  {
   "cell_type": "code",
   "execution_count": 191,
   "id": "20677932",
   "metadata": {},
   "outputs": [
    {
     "data": {
      "text/plain": [
       "'Os grãos disponíveis são: Bourbon vermelho, Bourbon amarelo, Blend especial (Mistura de Bourbon amarelo e vermelho), Catuaí amarelo, Geisha e Yirgacheffe.'"
      ]
     },
     "execution_count": 191,
     "metadata": {},
     "output_type": "execute_result"
    }
   ],
   "source": [
    "query_engine.query('Quais grãos estão disponíveis?').response"
   ]
  },
  {
   "cell_type": "code",
   "execution_count": 192,
   "id": "3ba5454f",
   "metadata": {},
   "outputs": [],
   "source": [
    "query_embedding = embed_model.get_text_embedding('Quais grãos estão disponíveis?')"
   ]
  },
  {
   "cell_type": "code",
   "execution_count": 193,
   "id": "1d36aa51",
   "metadata": {},
   "outputs": [
    {
     "data": {
      "text/plain": [
       "{'ids': [['ece5cfe7-2300-449a-90ec-4a6fb4af8977',\n",
       "   '16897708-dfee-4024-8b1c-b48efc2f8f58']],\n",
       " 'embeddings': [array([[ 0.0133445 , -0.0119672 , -0.00394492, ..., -0.00065692,\n",
       "          -0.05261652,  0.00293139],\n",
       "         [ 0.0133445 , -0.0119672 , -0.00394492, ..., -0.00065692,\n",
       "          -0.05261652,  0.00293139]], shape=(2, 1024))],\n",
       " 'documents': None,\n",
       " 'uris': None,\n",
       " 'included': ['distances', 'embeddings'],\n",
       " 'data': None,\n",
       " 'metadatas': None,\n",
       " 'distances': [[0.3484959602355957, 0.3484959602355957]]}"
      ]
     },
     "execution_count": 193,
     "metadata": {},
     "output_type": "execute_result"
    }
   ],
   "source": [
    "chroma_collection.query(query_embedding, n_results=2, include=['distances', 'embeddings'])"
   ]
  },
  {
   "cell_type": "code",
   "execution_count": 194,
   "id": "b7026fc2",
   "metadata": {},
   "outputs": [],
   "source": [
    "# adicionando um chat que transforma a entrada inicial e informação recuperada em um contexto e cria uma resposta mais elaborada\n",
    "chat_engine = index.as_chat_engine(mode='context', llm=llm)"
   ]
  },
  {
   "cell_type": "code",
   "execution_count": 195,
   "id": "4693c35b",
   "metadata": {},
   "outputs": [
    {
     "name": "stdout",
     "output_type": "stream",
     "text": [
      "Os grãos disponíveis são: Bourbon vermelho, Bourbon amarelo, Blend especial (Mistura de Bourbon amarelo e vermelho), Catuaí amarelo, Geisha e Yirgacheffe.\n"
     ]
    }
   ],
   "source": [
    "query = chat_engine.chat('Quais são os grãos disponíveis?').response\n",
    "print(query)"
   ]
  },
  {
   "cell_type": "code",
   "execution_count": 196,
   "id": "4444794c",
   "metadata": {},
   "outputs": [
    {
     "name": "stdout",
     "output_type": "stream",
     "text": [
      "Os preços são os seguintes: Bourbon vermelho: R$ 41,00 \n",
      "Bourbon amarelo: R$ 43,00 \n",
      "Blend especial: R$ 37,50 \n",
      "Catuaí amarelo: R$ 55,00 \n",
      "Geisha: R$ 105,00 \n",
      "Yirgacheffe: R$ 110,00\n"
     ]
    }
   ],
   "source": [
    "query = chat_engine.chat('Quais são os preços dos grãos?').response\n",
    "print(query)"
   ]
  },
  {
   "cell_type": "code",
   "execution_count": 197,
   "id": "7565a734",
   "metadata": {},
   "outputs": [
    {
     "name": "stdout",
     "output_type": "stream",
     "text": [
      "Este café possui doçura máxima (5/5) e corpo médio-alto (4/5) e amargor baixo (1/5). Ele ainda carrega uma expressiva acidez e notas maravilhosas de pitanga, fugindo muito do tradicional. É um café para quem busca uma experiência sensorial diferenciada. O processo é fermentado, cultivado em altitude de 1.200m, com torra média.\n"
     ]
    }
   ],
   "source": [
    "query = chat_engine.chat('Você pode me dar mais detalhes sobre o catuai amarelo?').response\n",
    "print(query)"
   ]
  },
  {
   "cell_type": "code",
   "execution_count": 198,
   "id": "e9fbb46c",
   "metadata": {},
   "outputs": [
    {
     "name": "stdout",
     "output_type": "stream",
     "text": [
      "R$ 55,00\n"
     ]
    }
   ],
   "source": [
    "query = chat_engine.chat('Qual é o preço dele?').response\n",
    "print(query)"
   ]
  },
  {
   "cell_type": "code",
   "execution_count": 199,
   "id": "c7024170",
   "metadata": {},
   "outputs": [
    {
     "data": {
      "text/plain": [
       "[ChatMessage(role=<MessageRole.USER: 'user'>, additional_kwargs={}, blocks=[TextBlock(block_type='text', text='Quais são os grãos disponíveis?')]),\n",
       " ChatMessage(role=<MessageRole.ASSISTANT: 'assistant'>, additional_kwargs={'tool_calls': [ChatCompletionMessageToolCall(id='call_fstk', function=Function(arguments='{\"input\":\"Quais são os grãos disponíveis?\"}', name='query_engine_tool'), type='function')]}, blocks=[]),\n",
       " ChatMessage(role=<MessageRole.TOOL: 'tool'>, additional_kwargs={'name': 'query_engine_tool', 'tool_call_id': 'call_fstk'}, blocks=[TextBlock(block_type='text', text='Os grãos disponíveis são: Bourbon vermelho, Bourbon amarelo, Blend especial (Mistura de Bourbon amarelo e vermelho), Catuaí amarelo, Geisha e Yirgacheffe.')]),\n",
       " ChatMessage(role=<MessageRole.ASSISTANT: 'assistant'>, additional_kwargs={}, blocks=[TextBlock(block_type='text', text='Os grãos disponíveis são: Bourbon vermelho, Bourbon amarelo, Blend especial (Mistura de Bourbon amarelo e vermelho), Catuaí amarelo, Geisha e Yirgacheffe.')]),\n",
       " ChatMessage(role=<MessageRole.USER: 'user'>, additional_kwargs={}, blocks=[TextBlock(block_type='text', text='Quais são os preços dos grãos?')]),\n",
       " ChatMessage(role=<MessageRole.ASSISTANT: 'assistant'>, additional_kwargs={'tool_calls': [ChatCompletionMessageToolCall(id='call_hybt', function=Function(arguments='{\"input\":\"Quais são os preços dos grãos?\"}', name='query_engine_tool'), type='function')]}, blocks=[]),\n",
       " ChatMessage(role=<MessageRole.TOOL: 'tool'>, additional_kwargs={'name': 'query_engine_tool', 'tool_call_id': 'call_hybt'}, blocks=[TextBlock(block_type='text', text='Os preços são os seguintes: Bourbon vermelho: R$ 41,00 \\nBourbon amarelo: R$ 43,00 \\nBlend especial: R$ 37,50 \\nCatuaí amarelo: R$ 55,00 \\nGeisha: R$ 105,00 \\nYirgacheffe: R$ 110,00')]),\n",
       " ChatMessage(role=<MessageRole.ASSISTANT: 'assistant'>, additional_kwargs={}, blocks=[TextBlock(block_type='text', text='Os preços são os seguintes: Bourbon vermelho: R$ 41,00 \\nBourbon amarelo: R$ 43,00 \\nBlend especial: R$ 37,50 \\nCatuaí amarelo: R$ 55,00 \\nGeisha: R$ 105,00 \\nYirgacheffe: R$ 110,00')]),\n",
       " ChatMessage(role=<MessageRole.USER: 'user'>, additional_kwargs={}, blocks=[TextBlock(block_type='text', text='Você pode me dar mais detalhes sobre o catuai amarelo?')]),\n",
       " ChatMessage(role=<MessageRole.ASSISTANT: 'assistant'>, additional_kwargs={'tool_calls': [ChatCompletionMessageToolCall(id='call_f8v1', function=Function(arguments='{\"input\":\"Você pode me dar mais detalhes sobre o Catuaí amarelo?\"}', name='query_engine_tool'), type='function')]}, blocks=[]),\n",
       " ChatMessage(role=<MessageRole.TOOL: 'tool'>, additional_kwargs={'name': 'query_engine_tool', 'tool_call_id': 'call_f8v1'}, blocks=[TextBlock(block_type='text', text='Este café possui doçura máxima (5/5) e corpo médio-alto (4/5) e amargor baixo (1/5). Ele ainda carrega uma expressiva acidez e notas maravilhosas de pitanga, fugindo muito do tradicional. É um café para quem busca uma experiência sensorial diferenciada. O processo é fermentado, cultivado em altitude de 1.200m, com torra média.')]),\n",
       " ChatMessage(role=<MessageRole.ASSISTANT: 'assistant'>, additional_kwargs={}, blocks=[TextBlock(block_type='text', text='Este café possui doçura máxima (5/5) e corpo médio-alto (4/5) e amargor baixo (1/5). Ele ainda carrega uma expressiva acidez e notas maravilhosas de pitanga, fugindo muito do tradicional. É um café para quem busca uma experiência sensorial diferenciada. O processo é fermentado, cultivado em altitude de 1.200m, com torra média.')]),\n",
       " ChatMessage(role=<MessageRole.USER: 'user'>, additional_kwargs={}, blocks=[TextBlock(block_type='text', text='Qual é o preço dele?')]),\n",
       " ChatMessage(role=<MessageRole.ASSISTANT: 'assistant'>, additional_kwargs={}, blocks=[TextBlock(block_type='text', text='R$ 55,00')])]"
      ]
     },
     "execution_count": 199,
     "metadata": {},
     "output_type": "execute_result"
    }
   ],
   "source": [
    "chat_engine.chat_history"
   ]
  },
  {
   "cell_type": "code",
   "execution_count": 200,
   "id": "242a8925",
   "metadata": {},
   "outputs": [],
   "source": [
    "from llama_index.core.memory import ChatSummaryMemoryBuffer"
   ]
  },
  {
   "cell_type": "code",
   "execution_count": 201,
   "id": "ce04318e",
   "metadata": {},
   "outputs": [],
   "source": [
    "memory = ChatSummaryMemoryBuffer(llm=llm, token_limit=256)"
   ]
  },
  {
   "cell_type": "code",
   "execution_count": 202,
   "id": "72034b4b",
   "metadata": {},
   "outputs": [],
   "source": [
    "chat_engine = index.as_chat_engine(\n",
    "    chat_mode='context',\n",
    "    llm=llm,\n",
    "    memory=memory,\n",
    "    system_prompt=('''Você é especialista em cafés especiais do Serenatto, uma loja online que vende grãos de cafés torrados.\n",
    "                   Sua função é tirar dúvidas de forma simpática e natural sobre os grãos disponíveis''')\n",
    ")"
   ]
  },
  {
   "cell_type": "code",
   "execution_count": 203,
   "id": "33f1a65b",
   "metadata": {},
   "outputs": [
    {
     "name": "stdout",
     "output_type": "stream",
     "text": [
      "Olá! Seja bem-vindo ao Serenatto, sua loja online de cafés especiais. Estou aqui para ajudar com qualquer dúvida sobre nossos cafés. O que você gostaria de saber?\n"
     ]
    }
   ],
   "source": [
    "query = chat_engine.chat('Olá').response\n",
    "print(query)"
   ]
  },
  {
   "cell_type": "code",
   "execution_count": 204,
   "id": "bcba1944",
   "metadata": {},
   "outputs": [
    {
     "name": "stdout",
     "output_type": "stream",
     "text": [
      "O Catuaí amarelo é um dos nossos cafés mais especiais! Ele possui uma doçura máxima (5/5) e um corpo médio-alto (4/5), com um amargor baixo (1/5). Além disso, ele carrega uma expressiva acidez e notas maravilhosas de pitanga, o que o faz fugir muito do tradicional.\n",
      "\n",
      "É um café para quem busca uma experiência sensorial diferenciada. O processo de produção é fermentado, cultivado em altitude de 1.200m, com torra média. Se você está procurando por um café que seja realmente único, o Catuaí amarelo é uma ótima escolha!\n"
     ]
    }
   ],
   "source": [
    "query = chat_engine.chat('Você pode me dar mais detalhes sobre o catuai amarelo?').response\n",
    "print(query)"
   ]
  },
  {
   "cell_type": "code",
   "execution_count": 205,
   "id": "0ce87c53",
   "metadata": {},
   "outputs": [],
   "source": [
    "import gradio as gr"
   ]
  },
  {
   "cell_type": "code",
   "execution_count": 206,
   "id": "9b1eb5b3",
   "metadata": {},
   "outputs": [],
   "source": [
    "def converse_com_bot(message, chat_history):\n",
    "    response = chat_engine.chat(message)\n",
    "\n",
    "    if chat_history is None:\n",
    "        chat_history = []\n",
    "\n",
    "    chat_history.append({\"role\": \"user\", \"content\": message})\n",
    "    chat_history.append({\"role\": \"assistant\", \"content\": response.response})\n",
    "\n",
    "    return \"\", chat_history\n",
    "\n",
    "def resetar_chat():\n",
    "    chat_engine.reset()\n",
    "    return []"
   ]
  },
  {
   "cell_type": "code",
   "execution_count": 207,
   "id": "cdb5580d",
   "metadata": {},
   "outputs": [
    {
     "name": "stdout",
     "output_type": "stream",
     "text": [
      "* Running on local URL:  http://127.0.0.1:7860\n",
      "* To create a public link, set `share=True` in `launch()`.\n"
     ]
    },
    {
     "data": {
      "text/html": [
       "<div><iframe src=\"http://127.0.0.1:7860/\" width=\"100%\" height=\"500\" allow=\"autoplay; camera; microphone; clipboard-read; clipboard-write;\" frameborder=\"0\" allowfullscreen></iframe></div>"
      ],
      "text/plain": [
       "<IPython.core.display.HTML object>"
      ]
     },
     "metadata": {},
     "output_type": "display_data"
    },
    {
     "name": "stdout",
     "output_type": "stream",
     "text": [
      "Keyboard interruption in main thread... closing server.\n"
     ]
    },
    {
     "data": {
      "text/plain": []
     },
     "execution_count": 207,
     "metadata": {},
     "output_type": "execute_result"
    }
   ],
   "source": [
    "with gr.Blocks() as demo:\n",
    "    gr.Markdown('# Chatbot da Serenatto')\n",
    "    chatbot = gr.Chatbot(type='messages')\n",
    "    msg = gr.Textbox(label='Digite a sua mensagem')\n",
    "    limpar = gr.Button('Limpar')\n",
    "\n",
    "    msg.submit(converse_com_bot, [msg, chatbot], [msg, chatbot])\n",
    "    limpar.click(resetar_chat, None, chatbot, queue=False)\n",
    "\n",
    "demo.launch(debug=True)"
   ]
  }
 ],
 "metadata": {
  "kernelspec": {
   "display_name": "venv",
   "language": "python",
   "name": "python3"
  },
  "language_info": {
   "codemirror_mode": {
    "name": "ipython",
    "version": 3
   },
   "file_extension": ".py",
   "mimetype": "text/x-python",
   "name": "python",
   "nbconvert_exporter": "python",
   "pygments_lexer": "ipython3",
   "version": "3.12.3"
  }
 },
 "nbformat": 4,
 "nbformat_minor": 5
}
